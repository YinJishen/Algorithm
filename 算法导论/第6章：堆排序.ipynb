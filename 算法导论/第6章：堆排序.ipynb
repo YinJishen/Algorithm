{
 "cells": [
  {
   "cell_type": "markdown",
   "metadata": {},
   "source": [
    "### 堆"
   ]
  },
  {
   "cell_type": "markdown",
   "metadata": {},
   "source": [
    "堆是指“父节点和子节点满足固定的次序关系的二叉树”。最大堆指“所有父节点值均大于子节点值的二叉树”，最小堆反之。"
   ]
  },
  {
   "cell_type": "markdown",
   "metadata": {},
   "source": [
    "堆也可以通过序列模式来表示，$[a_0, a_1, ..., a_{n-1}]$，利用索引定位父节点与子节点\n",
    "\n",
    "i的父节点为 (i-1) // 2\n",
    "\n",
    "i的两个子节点分别为 2i+1 和 2i+2"
   ]
  },
  {
   "cell_type": "markdown",
   "metadata": {},
   "source": [
    "将一个无序序列转换为最大堆的步骤是：\n",
    "\n",
    "第一步：选取最后一个非叶节点（最后一个叶节点的父节点），与它的两个子节点比较。如果不满足最大堆的定义，那么就和子节点中较大的结点交换，直至满足条件。\n",
    "\n",
    "第二步：按逆序顺序对所有非叶节点重复上述步骤"
   ]
  },
  {
   "cell_type": "markdown",
   "metadata": {},
   "source": [
    "### 堆排序"
   ]
  },
  {
   "cell_type": "markdown",
   "metadata": {},
   "source": [
    "堆排序的逻辑是：\n",
    "\n",
    "首先将无序序列变为最大堆，时间复杂度为$O(n\\log n)$\n",
    "\n",
    "然后将0号元素（最大的元素）与n-1号元素交换，最大值就位于正确的位置。然后将交换后的0号元素置于正确的位置\n",
    "\n",
    "然后将0号元素（第二大的元素）与n-2号元素交换，后面同理，时间复杂度为$O(n\\log n)$"
   ]
  },
  {
   "cell_type": "code",
   "execution_count": 1,
   "metadata": {},
   "outputs": [],
   "source": [
    "def max_heapify(src, i):\n",
    "    \"\"\"\n",
    "        将src的i号元素置于合适的位置\n",
    "    \"\"\"\n",
    "    n = len(src)\n",
    "    while i <= (n-2)//2:\n",
    "        if src[i] < src[2*i+1] or src[i] < src[2*i+2]:\n",
    "            if src[2*i+1] > src[2*i+2]:\n",
    "                src[i], src[2*i+1] = src[2*i+1], src[i]\n",
    "                i = 2*i+1\n",
    "            else:\n",
    "                src[i], src[2*i+2] = src[2*i+2], src[i]\n",
    "                i = 2*i + 2\n",
    "        else:\n",
    "            break\n",
    "    return src"
   ]
  },
  {
   "cell_type": "code",
   "execution_count": 2,
   "metadata": {},
   "outputs": [],
   "source": [
    "def build_max_heap(src):\n",
    "    \"\"\"\n",
    "        将src转换为最大堆\n",
    "    \"\"\"\n",
    "    n = len(src)\n",
    "    for i in range((n-2)//2, -1, -1):\n",
    "        src = max_heapify(src, i)\n",
    "    return src"
   ]
  },
  {
   "cell_type": "code",
   "execution_count": 3,
   "metadata": {},
   "outputs": [],
   "source": [
    "def heapsort(src):\n",
    "    n = len(src)\n",
    "    src = build_max_heap(src)\n",
    "    \n",
    "    for i in range(n-1, 0, -1):\n",
    "        src[0], src[i] = src[i], src[0]\n",
    "        src[:i] = max_heapify(src[:i], 0)\n",
    "    \n",
    "    return src"
   ]
  }
 ],
 "metadata": {
  "kernelspec": {
   "display_name": "Python 3",
   "language": "python",
   "name": "python3"
  },
  "language_info": {
   "codemirror_mode": {
    "name": "ipython",
    "version": 3
   },
   "file_extension": ".py",
   "mimetype": "text/x-python",
   "name": "python",
   "nbconvert_exporter": "python",
   "pygments_lexer": "ipython3",
   "version": "3.8.5"
  }
 },
 "nbformat": 4,
 "nbformat_minor": 4
}
